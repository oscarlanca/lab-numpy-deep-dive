{
 "cells": [
  {
   "cell_type": "code",
   "execution_count": 3,
   "id": "4ca632ec-8d16-477b-a223-b1b86d6eaad9",
   "metadata": {},
   "outputs": [
    {
     "data": {
      "text/plain": [
       "'1.21.5'"
      ]
     },
     "execution_count": 3,
     "metadata": {},
     "output_type": "execute_result"
    }
   ],
   "source": [
    "import numpy as np\n",
    "np.version.version"
   ]
  },
  {
   "cell_type": "code",
   "execution_count": 6,
   "id": "65aa088c-dcd8-4321-a3d0-a31764b655f6",
   "metadata": {},
   "outputs": [],
   "source": [
    "a = np.random.rand(2,3,5)"
   ]
  },
  {
   "cell_type": "code",
   "execution_count": 7,
   "id": "a7f7dad0-38d4-4ebe-a57e-8baac0f155f1",
   "metadata": {},
   "outputs": [
    {
     "data": {
      "text/plain": [
       "array([[[0.22902521, 0.69433276, 0.81278389, 0.67940638, 0.81561891],\n",
       "        [0.72940906, 0.48907353, 0.70765283, 0.64194879, 0.04665747],\n",
       "        [0.59637233, 0.63524833, 0.68110169, 0.9798183 , 0.5674549 ]],\n",
       "\n",
       "       [[0.78991881, 0.13792995, 0.65306104, 0.36568121, 0.45301069],\n",
       "        [0.41678247, 0.09556341, 0.00483402, 0.11776031, 0.70577521],\n",
       "        [0.85279465, 0.65715884, 0.49965146, 0.54543032, 0.93800375]]])"
      ]
     },
     "execution_count": 7,
     "metadata": {},
     "output_type": "execute_result"
    }
   ],
   "source": [
    "a"
   ]
  },
  {
   "cell_type": "code",
   "execution_count": 8,
   "id": "12c11ba0-ae38-4ba0-a0b9-d0b2cccc2add",
   "metadata": {},
   "outputs": [],
   "source": [
    "b = np.ones((5,2,3))"
   ]
  },
  {
   "cell_type": "code",
   "execution_count": 9,
   "id": "ae8e0c15-2354-4b17-8780-4805b503bbc7",
   "metadata": {},
   "outputs": [
    {
     "data": {
      "text/plain": [
       "array([[[1., 1., 1.],\n",
       "        [1., 1., 1.]],\n",
       "\n",
       "       [[1., 1., 1.],\n",
       "        [1., 1., 1.]],\n",
       "\n",
       "       [[1., 1., 1.],\n",
       "        [1., 1., 1.]],\n",
       "\n",
       "       [[1., 1., 1.],\n",
       "        [1., 1., 1.]],\n",
       "\n",
       "       [[1., 1., 1.],\n",
       "        [1., 1., 1.]]])"
      ]
     },
     "execution_count": 9,
     "metadata": {},
     "output_type": "execute_result"
    }
   ],
   "source": [
    "b"
   ]
  },
  {
   "cell_type": "code",
   "execution_count": 16,
   "id": "2eb061cb-9301-4f52-9372-4e7c90d6e136",
   "metadata": {},
   "outputs": [],
   "source": [
    "c = np.reshape(b, (2,3,5))"
   ]
  },
  {
   "cell_type": "code",
   "execution_count": 17,
   "id": "5bd6e089-d1e7-4391-981f-a30bf76e1efa",
   "metadata": {},
   "outputs": [
    {
     "data": {
      "text/plain": [
       "array([[[1., 1., 1., 1., 1.],\n",
       "        [1., 1., 1., 1., 1.],\n",
       "        [1., 1., 1., 1., 1.]],\n",
       "\n",
       "       [[1., 1., 1., 1., 1.],\n",
       "        [1., 1., 1., 1., 1.],\n",
       "        [1., 1., 1., 1., 1.]]])"
      ]
     },
     "execution_count": 17,
     "metadata": {},
     "output_type": "execute_result"
    }
   ],
   "source": [
    "c"
   ]
  },
  {
   "cell_type": "code",
   "execution_count": 19,
   "id": "22b6176a-c0c2-4a36-a0f7-3d730e5fa95c",
   "metadata": {},
   "outputs": [],
   "source": [
    "d = a+c"
   ]
  },
  {
   "cell_type": "code",
   "execution_count": null,
   "id": "c5824891-a4c3-46be-8d85-198e584e6c8f",
   "metadata": {},
   "outputs": [],
   "source": []
  },
  {
   "cell_type": "code",
   "execution_count": 20,
   "id": "18b2461e-1fa2-4411-903f-973aee78a31d",
   "metadata": {},
   "outputs": [
    {
     "data": {
      "text/plain": [
       "array([[[1.22902521, 1.69433276, 1.81278389, 1.67940638, 1.81561891],\n",
       "        [1.72940906, 1.48907353, 1.70765283, 1.64194879, 1.04665747],\n",
       "        [1.59637233, 1.63524833, 1.68110169, 1.9798183 , 1.5674549 ]],\n",
       "\n",
       "       [[1.78991881, 1.13792995, 1.65306104, 1.36568121, 1.45301069],\n",
       "        [1.41678247, 1.09556341, 1.00483402, 1.11776031, 1.70577521],\n",
       "        [1.85279465, 1.65715884, 1.49965146, 1.54543032, 1.93800375]]])"
      ]
     },
     "execution_count": 20,
     "metadata": {},
     "output_type": "execute_result"
    }
   ],
   "source": [
    "d"
   ]
  },
  {
   "cell_type": "code",
   "execution_count": 21,
   "id": "31f928c5-d798-4e5d-8db9-61d136b0fdab",
   "metadata": {},
   "outputs": [],
   "source": [
    "e = a*c"
   ]
  },
  {
   "cell_type": "code",
   "execution_count": 22,
   "id": "c548e340-7fea-4583-b249-adfea3d9df96",
   "metadata": {},
   "outputs": [
    {
     "data": {
      "text/plain": [
       "array([[[0.22902521, 0.69433276, 0.81278389, 0.67940638, 0.81561891],\n",
       "        [0.72940906, 0.48907353, 0.70765283, 0.64194879, 0.04665747],\n",
       "        [0.59637233, 0.63524833, 0.68110169, 0.9798183 , 0.5674549 ]],\n",
       "\n",
       "       [[0.78991881, 0.13792995, 0.65306104, 0.36568121, 0.45301069],\n",
       "        [0.41678247, 0.09556341, 0.00483402, 0.11776031, 0.70577521],\n",
       "        [0.85279465, 0.65715884, 0.49965146, 0.54543032, 0.93800375]]])"
      ]
     },
     "execution_count": 22,
     "metadata": {},
     "output_type": "execute_result"
    }
   ],
   "source": [
    "e"
   ]
  },
  {
   "cell_type": "code",
   "execution_count": 13,
   "id": "dd08ea22-93cb-4040-b61c-7a983fd8df36",
   "metadata": {},
   "outputs": [
    {
     "ename": "ValueError",
     "evalue": "operands could not be broadcast together with shapes (2,3,5) (5,2,3) ",
     "output_type": "error",
     "traceback": [
      "\u001b[0;31m---------------------------------------------------------------------------\u001b[0m",
      "\u001b[0;31mValueError\u001b[0m                                Traceback (most recent call last)",
      "Input \u001b[0;32mIn [13]\u001b[0m, in \u001b[0;36m<cell line: 1>\u001b[0;34m()\u001b[0m\n\u001b[0;32m----> 1\u001b[0m \u001b[43ma\u001b[49m\u001b[38;5;241;43m+\u001b[39;49m\u001b[43mb\u001b[49m\n",
      "\u001b[0;31mValueError\u001b[0m: operands could not be broadcast together with shapes (2,3,5) (5,2,3) "
     ]
    }
   ],
   "source": [
    "a+b"
   ]
  },
  {
   "cell_type": "code",
   "execution_count": 24,
   "id": "76008ceb-9d8a-4f91-83c5-17bf83e9b90b",
   "metadata": {},
   "outputs": [
    {
     "data": {
      "text/plain": [
       "1.9798182990774267"
      ]
     },
     "execution_count": 24,
     "metadata": {},
     "output_type": "execute_result"
    }
   ],
   "source": [
    "d_max = np.amax(d)\n",
    "d_max"
   ]
  },
  {
   "cell_type": "code",
   "execution_count": 25,
   "id": "d1a9aba9-d080-4db0-ac75-18abdc98e6d3",
   "metadata": {},
   "outputs": [
    {
     "data": {
      "text/plain": [
       "1.0048340226715804"
      ]
     },
     "execution_count": 25,
     "metadata": {},
     "output_type": "execute_result"
    }
   ],
   "source": [
    "d_min = np.amin(d)\n",
    "d_min"
   ]
  },
  {
   "cell_type": "code",
   "execution_count": 26,
   "id": "76766de0-8a97-44fd-b74e-7358e32e554b",
   "metadata": {},
   "outputs": [
    {
     "data": {
      "text/plain": [
       "1.5513086839216172"
      ]
     },
     "execution_count": 26,
     "metadata": {},
     "output_type": "execute_result"
    }
   ],
   "source": [
    "d_mean = np.mean(d)\n",
    "d_mean"
   ]
  },
  {
   "cell_type": "code",
   "execution_count": 30,
   "id": "f18faade-9d6d-4fe5-be6e-8320471c456a",
   "metadata": {},
   "outputs": [],
   "source": [
    "f = np.empty((2,3,5))"
   ]
  },
  {
   "cell_type": "code",
   "execution_count": 31,
   "id": "3396cbc0-9f28-425a-9db7-d31de6948b27",
   "metadata": {},
   "outputs": [
    {
     "data": {
      "text/plain": [
       "array([[[0.22902521, 0.69433276, 0.81278389, 0.67940638, 0.81561891],\n",
       "        [0.72940906, 0.48907353, 0.70765283, 0.64194879, 0.04665747],\n",
       "        [0.59637233, 0.63524833, 0.68110169, 0.9798183 , 0.5674549 ]],\n",
       "\n",
       "       [[0.78991881, 0.13792995, 0.65306104, 0.36568121, 0.45301069],\n",
       "        [0.41678247, 0.09556341, 0.00483402, 0.11776031, 0.70577521],\n",
       "        [0.85279465, 0.65715884, 0.49965146, 0.54543032, 0.93800375]]])"
      ]
     },
     "execution_count": 31,
     "metadata": {},
     "output_type": "execute_result"
    }
   ],
   "source": [
    "f"
   ]
  },
  {
   "cell_type": "code",
   "execution_count": 32,
   "id": "1835e64d-e9d5-4dc4-b88b-5529bfae1c14",
   "metadata": {},
   "outputs": [
    {
     "name": "stdout",
     "output_type": "stream",
     "text": [
      "True\n"
     ]
    }
   ],
   "source": [
    "if a.shape == f.shape:\n",
    "    print (True)"
   ]
  },
  {
   "cell_type": "code",
   "execution_count": 33,
   "id": "56e8e6e0-4e5f-469a-b035-c3a6d10ee062",
   "metadata": {},
   "outputs": [
    {
     "data": {
      "text/plain": [
       "2"
      ]
     },
     "execution_count": 33,
     "metadata": {},
     "output_type": "execute_result"
    }
   ],
   "source": [
    "len(f)"
   ]
  },
  {
   "cell_type": "code",
   "execution_count": 34,
   "id": "3d9af686-eade-4712-825a-927a6cb2f3e5",
   "metadata": {},
   "outputs": [
    {
     "data": {
      "text/plain": [
       "(2, 3, 5)"
      ]
     },
     "execution_count": 34,
     "metadata": {},
     "output_type": "execute_result"
    }
   ],
   "source": [
    "f.shape"
   ]
  }
 ],
 "metadata": {
  "kernelspec": {
   "display_name": "Python 3 (ipykernel)",
   "language": "python",
   "name": "python3"
  },
  "language_info": {
   "codemirror_mode": {
    "name": "ipython",
    "version": 3
   },
   "file_extension": ".py",
   "mimetype": "text/x-python",
   "name": "python",
   "nbconvert_exporter": "python",
   "pygments_lexer": "ipython3",
   "version": "3.9.12"
  }
 },
 "nbformat": 4,
 "nbformat_minor": 5
}
